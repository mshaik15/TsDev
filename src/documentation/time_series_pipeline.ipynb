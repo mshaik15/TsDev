{
 "cells": [
  {
   "cell_type": "markdown",
   "id": "5e337833",
   "metadata": {},
   "source": [
    "# 📊 Time Series to Vector Pipeline"
   ]
  },
  {
   "cell_type": "markdown",
   "id": "d02ae357",
   "metadata": {},
   "source": [
    "Given a time series:\n",
    "\n",
    "$$\n",
    "X = \\begin{bmatrix} x_1 \\\\ x_2 \\\\ \\vdots \\\\ x_T \\end{bmatrix} \\in \\mathbb{R}^T\n",
    "$$"
   ]
  },
  {
   "cell_type": "markdown",
   "id": "15448b11",
   "metadata": {},
   "source": [
    "## Step 1: Sliding Window Extraction\n",
    "\n",
    "For each window $i = 1, 2, \\dots, N$ where\n",
    "\n",
    "$$\n",
    "N = \\left\\lfloor \\frac{T - w}{s} \\right\\rfloor + 1\n",
    "$$\n",
    "\n",
    "with window size $w$ and stride $s$, extract:\n",
    "\n",
    "$$\n",
    "W_i = \\begin{bmatrix} x_{i} \\\\ x_{i+1} \\\\ \\vdots \\\\ x_{i+w-1} \\end{bmatrix} \\in \\mathbb{R}^w\n",
    "$$"
   ]
  },
  {
   "cell_type": "markdown",
   "id": "951b82ea",
   "metadata": {},
   "source": [
    "## Step 2: Feature Extraction per Window\n",
    "\n",
    "### (a) Statistical feature vector:\n",
    "\n",
    "$$\n",
    "v_i^{(\\text{stat})} = \\begin{bmatrix}\n",
    "\\mu_i \\\\ \\sigma_i^2 \\\\ \\gamma_i \\\\ \\kappa_i \\\\ \\min_i \\\\ \\max_i \\\\ \\mathrm{median}_i \\\\ \\vdots\n",
    "\\end{bmatrix}\n",
    "\\in \\mathbb{R}^{d_s}\n",
    "$$"
   ]
  },
  {
   "cell_type": "markdown",
   "id": "3f7a1305",
   "metadata": {},
   "source": [
    "### (b) Frequency (FFT) feature vector:\n",
    "\n",
    "**Compute DFT:**\n",
    "\n",
    "$$\n",
    "\\hat{X}_i[k] = \\sum_{n=0}^{w-1} (W_i)_n \\cdot e^{-j \\frac{2\\pi k n}{w}}, \\quad k = 0, \\dots, w-1\n",
    "$$\n",
    "\n",
    "**Compute magnitude:**\n",
    "\n",
    "$$\n",
    "|\\hat{X}_i[k]| = \\sqrt{\\mathrm{Re}(\\hat{X}_i[k])^2 + \\mathrm{Im}(\\hat{X}_i[k])^2}\n",
    "$$\n",
    "\n",
    "**Take first K non-DC components:**\n",
    "\n",
    "$$\n",
    "v_i^{(\\text{fft})} = \\begin{bmatrix}\n",
    "|\\hat{X}_i[1]| \\\\ |\\hat{X}_i[2]| \\\\ \\vdots \\\\ |\\hat{X}_i[K]|\n",
    "\\end{bmatrix} \\in \\mathbb{R}^{d_f}, \\quad d_f = K\n",
    "$$"
   ]
  },
  {
   "cell_type": "markdown",
   "id": "a3471ab1",
   "metadata": {},
   "source": [
    "## Step 3: Concatenate Final Feature Vector\n",
    "\n",
    "$$\n",
    "v_i = \\begin{bmatrix} v_i^{(\\text{stat})} \\\\ v_i^{(\\text{fft})} \\end{bmatrix} \\in \\mathbb{R}^{d_s + d_f}\n",
    "$$"
   ]
  },
  {
   "cell_type": "markdown",
   "id": "f1512bc9",
   "metadata": {},
   "source": [
    "## Step 4: Construct Final Feature Matrix\n",
    "\n",
    "$$\n",
    "V = \\begin{bmatrix} | & | & & | \\\\ v_1 & v_2 & \\cdots & v_N \\\\ | & | & & | \\end{bmatrix} \\in \\mathbb{R}^{(d_s + d_f) \\times N}\n",
    "$$"
   ]
  },
  {
   "cell_type": "markdown",
   "id": "77869701",
   "metadata": {},
   "source": [
    "## ✅ Summary\n",
    "\n",
    "- $V$ has **columns**: one feature vector per window.\n",
    "- $V$ has **rows**: feature dimensions (statistical + frequency).\n",
    "- Matrix $V$ is ready for ML input or storage."
   ]
  }
 ],
 "metadata": {
  "language_info": {
   "name": "python"
  }
 },
 "nbformat": 4,
 "nbformat_minor": 5
}
