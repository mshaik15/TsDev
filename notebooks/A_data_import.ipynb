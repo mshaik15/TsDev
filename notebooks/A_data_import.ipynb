{
 "cells": [
  {
   "cell_type": "markdown",
   "id": "53a5893c",
   "metadata": {},
   "source": [
    "# Testing notebook"
   ]
  },
  {
   "cell_type": "markdown",
   "id": "8abd7fda",
   "metadata": {},
   "source": []
  },
  {
   "cell_type": "code",
   "execution_count": null,
   "id": "ce560977",
   "metadata": {},
   "outputs": [
    {
     "name": "stdout",
     "output_type": "stream",
     "text": [
      "Data loaded successfully from ../data/raw/avocado_full.csv\n",
      "1 - Date\n",
      "2 - AveragePrice\n",
      "3 - Total Volume\n",
      "4 - 4046\n",
      "5 - 4225\n",
      "6 - 4770\n",
      "7 - Total Bags\n",
      "8 - Small Bags\n",
      "9 - Large Bags\n",
      "10 - XLarge Bags\n",
      "11 - type\n",
      "12 - year\n",
      "13 - region\n"
     ]
    }
   ],
   "source": []
  },
  {
   "cell_type": "code",
   "execution_count": null,
   "id": "e03280f1",
   "metadata": {},
   "outputs": [
    {
     "name": "stdout",
     "output_type": "stream",
     "text": [
      "Data loaded successfully from ../data/raw/avocado_full.csv\n",
      "1 - Date\n",
      "2 - AveragePrice\n",
      "3 - Total Volume\n",
      "4 - 4046\n",
      "5 - 4225\n",
      "6 - 4770\n",
      "7 - Total Bags\n",
      "8 - Small Bags\n",
      "9 - Large Bags\n",
      "10 - XLarge Bags\n",
      "11 - type\n",
      "12 - year\n",
      "13 - region\n"
     ]
    }
   ],
   "source": [
    "import sys\n",
    "sys.path.append(\"../src\")\n",
    "\n",
    "import data_input as di\n",
    "import data_cleaning as dc\n",
    "\n",
    "df, file_path = di.load_data_csv(\"../data/raw/avocado_full.csv\")\n",
    "\n",
    "dc.predictive_value(df)"
   ]
  },
  {
   "cell_type": "code",
   "execution_count": null,
   "id": "4e4dc404",
   "metadata": {},
   "outputs": [
    {
     "name": "stdout",
     "output_type": "stream",
     "text": [
      "Data loaded successfully from ../data/raw/donut_searches.json\n"
     ]
    },
    {
     "ename": "ValueError",
     "evalue": "too many values to unpack (expected 2)",
     "output_type": "error",
     "traceback": [
      "\u001b[31m---------------------------------------------------------------------------\u001b[39m",
      "\u001b[31mValueError\u001b[39m                                Traceback (most recent call last)",
      "\u001b[36mCell\u001b[39m\u001b[36m \u001b[39m\u001b[32mIn[7]\u001b[39m\u001b[32m, line 9\u001b[39m\n\u001b[32m      5\u001b[39m \u001b[38;5;28;01mimport\u001b[39;00m\u001b[38;5;250m \u001b[39m\u001b[34;01mdata_cleaning\u001b[39;00m\u001b[38;5;250m \u001b[39m\u001b[38;5;28;01mas\u001b[39;00m\u001b[38;5;250m \u001b[39m\u001b[34;01mdc\u001b[39;00m\n\u001b[32m      7\u001b[39m df, file_path = di.load_data_json(\u001b[33m\"\u001b[39m\u001b[33m../data/raw/donut_searches.json\u001b[39m\u001b[33m\"\u001b[39m)\n\u001b[32m----> \u001b[39m\u001b[32m9\u001b[39m \u001b[38;5;28;01mfor\u001b[39;00m col, index \u001b[38;5;129;01min\u001b[39;00m df.columns:\n\u001b[32m     10\u001b[39m     \u001b[38;5;28mprint\u001b[39m(col, index)\n",
      "\u001b[31mValueError\u001b[39m: too many values to unpack (expected 2)"
     ]
    }
   ],
   "source": [
    "import sys\n",
    "sys.path.append(\"../src\")\n",
    "\n",
    "import data_input as di\n",
    "import data_cleaning as dc\n",
    "\n",
    "df, file_path = di.load_data_json(\"../data/raw/donut_searches.json\")\n",
    "\n",
    "for col in df.columns:\n",
    "    print(col)"
   ]
  }
 ],
 "metadata": {
  "kernelspec": {
   "display_name": "Python 3",
   "language": "python",
   "name": "python3"
  },
  "language_info": {
   "codemirror_mode": {
    "name": "ipython",
    "version": 3
   },
   "file_extension": ".py",
   "mimetype": "text/x-python",
   "name": "python",
   "nbconvert_exporter": "python",
   "pygments_lexer": "ipython3",
   "version": "3.12.6"
  }
 },
 "nbformat": 4,
 "nbformat_minor": 5
}
