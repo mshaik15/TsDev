{
 "cells": [
  {
   "cell_type": "markdown",
   "id": "53a5893c",
   "metadata": {},
   "source": [
    "# Testing notebook"
   ]
  },
  {
   "cell_type": "markdown",
   "id": "8abd7fda",
   "metadata": {},
   "source": []
  },
  {
   "cell_type": "code",
   "execution_count": 1,
   "id": "ce560977",
   "metadata": {},
   "outputs": [
    {
     "name": "stdout",
     "output_type": "stream",
     "text": [
      "Data loaded successfully from ../data/raw/avocado_full.csv\n",
      "Warning: No mapping found for column 'averageprice', leaving it unchanged.\n",
      "Warning: No mapping found for column 'total volume', leaving it unchanged.\n",
      "Warning: No mapping found for column '4046', leaving it unchanged.\n",
      "Warning: No mapping found for column '4225', leaving it unchanged.\n",
      "Warning: No mapping found for column '4770', leaving it unchanged.\n",
      "Warning: No mapping found for column 'total bags', leaving it unchanged.\n",
      "Warning: No mapping found for column 'small bags', leaving it unchanged.\n",
      "Warning: No mapping found for column 'large bags', leaving it unchanged.\n",
      "Warning: No mapping found for column 'xlarge bags', leaving it unchanged.\n",
      "Warning: No mapping found for column 'type', leaving it unchanged.\n",
      "Warning: No mapping found for column 'year', leaving it unchanged.\n",
      "Warning: No mapping found for column 'region', leaving it unchanged.\n",
      "Saved cleaned file to: ../data/cleaned\\avocado_full_cleaned.csv\n",
      "        timestamp  averageprice  total volume        4046       4225  \\\n",
      "0      2015-01-04          1.75      27365.89     9307.34    3844.81   \n",
      "1      2015-01-04          1.49      17723.17     1189.35   15628.27   \n",
      "2      2015-01-04          1.68       2896.72      161.68     206.96   \n",
      "3      2015-01-04          1.52      54956.80     3013.04   35456.88   \n",
      "4      2015-01-04          1.64       1505.12        1.27    1129.50   \n",
      "...           ...           ...           ...         ...        ...   \n",
      "18244  2018-03-25          1.36     908202.13   142681.06  463136.28   \n",
      "18245  2018-03-25          0.70    9010588.32  3999735.71  966589.50   \n",
      "18246  2018-03-25          1.42     163496.70    29253.30    5080.04   \n",
      "18247  2018-03-25          1.70     190257.38    29644.09   70982.10   \n",
      "18248  2018-03-25          1.34    1774776.77    63905.98  908653.71   \n",
      "\n",
      "            4770  total bags  small bags  large bags  xlarge bags  \\\n",
      "0         615.28    13598.46    13061.10      537.36         0.00   \n",
      "1           0.00      905.55      905.55        0.00         0.00   \n",
      "2           0.00     2528.08     2528.08        0.00         0.00   \n",
      "3        1561.70    14925.18    11264.80     3660.38         0.00   \n",
      "4           0.00      374.35      186.67      187.68         0.00   \n",
      "...          ...         ...         ...         ...          ...   \n",
      "18244  174975.75   127409.04   103579.41    22467.04      1362.59   \n",
      "18245   30130.82  4014132.29  3398569.92   546409.74     69152.63   \n",
      "18246       0.00   129163.36   109052.26    20111.10         0.00   \n",
      "18247       0.00    89631.19    89424.11      207.08         0.00   \n",
      "18248     843.45   801373.63   774634.09    23833.93      2905.61   \n",
      "\n",
      "               type  year              region  \n",
      "0           organic  2015           Southeast  \n",
      "1           organic  2015             Chicago  \n",
      "2           organic  2015  HarrisburgScranton  \n",
      "3      conventional  2015          Pittsburgh  \n",
      "4           organic  2015               Boise  \n",
      "...             ...   ...                 ...  \n",
      "18244  conventional  2018             Chicago  \n",
      "18245  conventional  2018        SouthCentral  \n",
      "18246       organic  2018        SouthCentral  \n",
      "18247       organic  2018          California  \n",
      "18248  conventional  2018             NewYork  \n",
      "\n",
      "[18249 rows x 13 columns]\n"
     ]
    }
   ],
   "source": [
    "import sys\n",
    "sys.path.append(\"../src\")\n",
    "\n",
    "import data_input as di\n",
    "import data_cleaning as dc\n",
    "\n",
    "df, file_path = di.load_data_csv(\"../data/raw/avocado_full.csv\")\n",
    "df = dc.clean_data(df, file_path)\n",
    "\n",
    "print(df)"
   ]
  },
  {
   "cell_type": "code",
   "execution_count": 3,
   "id": "4e4dc404",
   "metadata": {},
   "outputs": [
    {
     "name": "stdout",
     "output_type": "stream",
     "text": [
      "Data loaded successfully from ../data/raw/donut_searches.json\n",
      "Warning: No mapping found for column 'search_count', leaving it unchanged.\n",
      "Saved cleaned file to: ../data/cleaned\\donut_searches_cleaned.csv\n",
      "     timestamp  search_count\n",
      "0   2024-10-01         123.0\n",
      "1   2024-10-02          98.0\n",
      "2   2024-10-03         104.0\n",
      "3   2024-10-04           NaN\n",
      "4   2024-10-05         111.0\n",
      "..         ...           ...\n",
      "87  2024-12-27         130.0\n",
      "88  2024-12-28         111.0\n",
      "89  2024-12-29         118.0\n",
      "90  2024-12-30           NaN\n",
      "91  2024-12-31         125.0\n",
      "\n",
      "[92 rows x 2 columns]\n"
     ]
    }
   ],
   "source": [
    "import sys\n",
    "sys.path.append(\"../src\")\n",
    "\n",
    "import data_input as di\n",
    "import data_cleaning as dc\n",
    "\n",
    "df, file_path = di.load_data_json(\"../data/raw/donut_searches.json\")\n",
    "df = dc.clean_data(df, file_path)\n",
    "\n",
    "print(df)"
   ]
  }
 ],
 "metadata": {
  "kernelspec": {
   "display_name": "Python 3",
   "language": "python",
   "name": "python3"
  },
  "language_info": {
   "codemirror_mode": {
    "name": "ipython",
    "version": 3
   },
   "file_extension": ".py",
   "mimetype": "text/x-python",
   "name": "python",
   "nbconvert_exporter": "python",
   "pygments_lexer": "ipython3",
   "version": "3.12.6"
  }
 },
 "nbformat": 4,
 "nbformat_minor": 5
}
